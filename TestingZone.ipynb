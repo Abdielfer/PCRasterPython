{
 "cells": [
  {
   "cell_type": "code",
   "execution_count": 1,
   "metadata": {},
   "outputs": [],
   "source": [
    "from osgeo import gdal\n",
    "import pcraster as pcr\n",
    "import ntpath\n",
    "import os\n",
    "import util as U"
   ]
  },
  {
   "cell_type": "code",
   "execution_count": 3,
   "metadata": {},
   "outputs": [],
   "source": [
    "\n",
    "DEM = r\"C:\\Users\\abfernan\\CrossCanFloodMapping\\PCRasterPython\\data\\BCQuesnellWsh2FIllReprojected4326.tif\""
   ]
  },
  {
   "cell_type": "code",
   "execution_count": 4,
   "metadata": {},
   "outputs": [
    {
     "name": "stdout",
     "output_type": "stream",
     "text": [
      "C:\\Users\\abfernan\\CrossCanFloodMapping\\PCRasterPython\\data\\BCQuesnellWsh2FIllReprojected4326.map\n"
     ]
    }
   ],
   "source": [
    "DEMMap = U.saveTiffAsPCRaster(DEM)\n",
    "pcr.setclone(DEMMap)\n",
    "print(DEMMap)\n",
    "DEM = pcr.readmap(DEMMap)"
   ]
  },
  {
   "cell_type": "code",
   "execution_count": 7,
   "metadata": {},
   "outputs": [
    {
     "name": "stdout",
     "output_type": "stream",
     "text": [
      "<pcraster._pcraster.Field object at 0x0000022D2BBC5230>\n"
     ]
    }
   ],
   "source": [
    "print(DEM)"
   ]
  },
  {
   "cell_type": "code",
   "execution_count": 11,
   "metadata": {},
   "outputs": [],
   "source": [
    "format = \"GTiff\"\n",
    "driver = gdal.GetDriverByName( format )"
   ]
  },
  {
   "cell_type": "code",
   "execution_count": null,
   "metadata": {},
   "outputs": [],
   "source": [
    "#Output to new format\n",
    "dst_ds = driver.CreateCopy( DEM_Copy, src_ds, 0 )"
   ]
  },
  {
   "cell_type": "code",
   "execution_count": 14,
   "metadata": {},
   "outputs": [],
   "source": [
    "pcr_driver = gdal.GetDriverByName(\"PCRaster\")"
   ]
  },
  {
   "cell_type": "code",
   "execution_count": 17,
   "metadata": {},
   "outputs": [],
   "source": [
    "DEM_map =  r'C:\\Users\\abfernan\\CrossCanFloodMapping\\PCRasterPython\\data\\BCQuesnellWsh2GeoFill_translated.map'"
   ]
  },
  {
   "cell_type": "code",
   "execution_count": 18,
   "metadata": {},
   "outputs": [
    {
     "data": {
      "text/plain": [
       "<osgeo.gdal.Dataset; proxy of <Swig Object of type 'GDALDatasetShadow *' at 0x00000191C329A090> >"
      ]
     },
     "execution_count": 18,
     "metadata": {},
     "output_type": "execute_result"
    }
   ],
   "source": [
    "# gdal.Translate(OutpuPath,InputPath, format = \"PCRaster\")\n",
    "gdal.Translate(DEM_map,DEM,format='GeoTiff')\n"
   ]
  },
  {
   "cell_type": "code",
   "execution_count": 20,
   "metadata": {},
   "outputs": [],
   "source": [
    "dst_ds = 0\n",
    "src_ds = 0"
   ]
  },
  {
   "cell_type": "code",
   "execution_count": null,
   "metadata": {},
   "outputs": [],
   "source": []
  }
 ],
 "metadata": {
  "kernelspec": {
   "display_name": "datacube-extract",
   "language": "python",
   "name": "python3"
  },
  "language_info": {
   "codemirror_mode": {
    "name": "ipython",
    "version": 3
   },
   "file_extension": ".py",
   "mimetype": "text/x-python",
   "name": "python",
   "nbconvert_exporter": "python",
   "pygments_lexer": "ipython3",
   "version": "3.9.13"
  },
  "orig_nbformat": 4
 },
 "nbformat": 4,
 "nbformat_minor": 2
}
